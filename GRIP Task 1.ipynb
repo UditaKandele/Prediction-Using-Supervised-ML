{
 "cells": [
  {
   "cell_type": "markdown",
   "id": "96f470ad",
   "metadata": {},
   "source": [
    "<H1><FONT SIZE = \"25\", FACE = \"COMIC SANS MS\", COLOR = \"CRIMSON\">WELCOME TO THE PROJECT OF GRIP TASK 1.</FONT>\n",
    "    <H2><FONT FACE = \"COMIC SANS MS\", COLOR = \"DARKBLUE\">PREDICTION USING SUPERVISED MACHINE LEARNING.</FONT>\n",
    "        <H3><FONT FACE = \"COMIC SANS MS\", COLOR =\"DARKGREEN\">SUBMITTED BY :- UDITA KANDELE.</FONT>"
   ]
  },
  {
   "cell_type": "markdown",
   "id": "2ae795d3",
   "metadata": {},
   "source": [
    "<H1><FONT SIZE = \"15\", FACE = \"COMIC SANS MS\", COLOR = \"CRIMSON\">THE SIX STEPS OF ANY ML PROJECT LIFE CYCLE ARE AS FOLLOWS:</FONT>\n",
    "    <H2><FONT FACE = \"COMIC SANS MS\", COLOR = \"DARKBLUE\"><OL><LI>DEFINING RESEARCH GOALS</LI><LI>IMPORTING THE DATASET</LI><LI>VISUALIZING THE DATASET</LI><LI>DATA PREPRATION</LI><LI>TRAINING THE ALGORITHM</LI><LI>VISUALIZING THE MODEL</LI><LI>MAKING THE PREDICTION AND PRESENTING THE RESULTS</LI></FONT>\n",
    "        <H2><FONT FACE = \"COMIC SANS MS\", COLOR =\"DARKGREEN\">STEP 1. Defining the goals and objectives of the project:</FONT>\n",
    "            <H3><FONT FACE = \"COMIC SANS MS\", COLOR =\"DARKGREEN\">The goal of the project is to predict the percentage of an student based on the no. of study hours. The objective of the project is to predict score if a student studies for 9.25 hrs/day.</FONT>"
   ]
  },
  {
   "cell_type": "markdown",
   "id": "6f59b167",
   "metadata": {},
   "source": [
    "## _**Simple Linear Regression :-**_\n",
    "**The term regression is used when you try to find the relationship between variables.**\n",
    "**In Machine Learning, and in statistical modeling, that relationship is used to predict the outcome of future events.**\n",
    "\n",
    "In this regression task we will predict the percentage of marks that a student is expected to score based upon the number of hours they studied. This is a simple linear regression task as it involves just two variables."
   ]
  },
  {
   "cell_type": "markdown",
   "id": "77441c30",
   "metadata": {},
   "source": [
    " <H2><FONT FACE = \"COMIC SANS MS\", COLOR =\"DARKGREEN\">STEP 2. Importing the Dataset:</FONT>"
   ]
  },
  {
   "cell_type": "code",
   "execution_count": 24,
   "id": "040c2a04",
   "metadata": {},
   "outputs": [],
   "source": [
    "#Before Performing Any tasks, we have to import relevent packages in python to use there libraries.\n",
    "import numpy as np\n",
    "import pandas as pd\n",
    "import matplotlib.pyplot as plt\n",
    "import seaborn as sns\n",
    "from sklearn.model_selection import train_test_split\n",
    "from sklearn.linear_model import LinearRegression"
   ]
  },
  {
   "cell_type": "code",
   "execution_count": 3,
   "id": "a44d70ef",
   "metadata": {},
   "outputs": [],
   "source": [
    "#To Work on data, we have to import data file into python. For importing data file, we will use read_csv() Fuction.\n",
    "TaskData = pd.read_csv(\"http://bit.ly/w-data\")"
   ]
  },
  {
   "cell_type": "code",
   "execution_count": 4,
   "id": "14b5036c",
   "metadata": {
    "scrolled": true
   },
   "outputs": [
    {
     "data": {
      "text/html": [
       "<div>\n",
       "<style scoped>\n",
       "    .dataframe tbody tr th:only-of-type {\n",
       "        vertical-align: middle;\n",
       "    }\n",
       "\n",
       "    .dataframe tbody tr th {\n",
       "        vertical-align: top;\n",
       "    }\n",
       "\n",
       "    .dataframe thead th {\n",
       "        text-align: right;\n",
       "    }\n",
       "</style>\n",
       "<table border=\"1\" class=\"dataframe\">\n",
       "  <thead>\n",
       "    <tr style=\"text-align: right;\">\n",
       "      <th></th>\n",
       "      <th>Hours</th>\n",
       "      <th>Scores</th>\n",
       "    </tr>\n",
       "  </thead>\n",
       "  <tbody>\n",
       "    <tr>\n",
       "      <th>0</th>\n",
       "      <td>2.5</td>\n",
       "      <td>21</td>\n",
       "    </tr>\n",
       "    <tr>\n",
       "      <th>1</th>\n",
       "      <td>5.1</td>\n",
       "      <td>47</td>\n",
       "    </tr>\n",
       "    <tr>\n",
       "      <th>2</th>\n",
       "      <td>3.2</td>\n",
       "      <td>27</td>\n",
       "    </tr>\n",
       "    <tr>\n",
       "      <th>3</th>\n",
       "      <td>8.5</td>\n",
       "      <td>75</td>\n",
       "    </tr>\n",
       "    <tr>\n",
       "      <th>4</th>\n",
       "      <td>3.5</td>\n",
       "      <td>30</td>\n",
       "    </tr>\n",
       "    <tr>\n",
       "      <th>5</th>\n",
       "      <td>1.5</td>\n",
       "      <td>20</td>\n",
       "    </tr>\n",
       "    <tr>\n",
       "      <th>6</th>\n",
       "      <td>9.2</td>\n",
       "      <td>88</td>\n",
       "    </tr>\n",
       "    <tr>\n",
       "      <th>7</th>\n",
       "      <td>5.5</td>\n",
       "      <td>60</td>\n",
       "    </tr>\n",
       "    <tr>\n",
       "      <th>8</th>\n",
       "      <td>8.3</td>\n",
       "      <td>81</td>\n",
       "    </tr>\n",
       "    <tr>\n",
       "      <th>9</th>\n",
       "      <td>2.7</td>\n",
       "      <td>25</td>\n",
       "    </tr>\n",
       "    <tr>\n",
       "      <th>10</th>\n",
       "      <td>7.7</td>\n",
       "      <td>85</td>\n",
       "    </tr>\n",
       "    <tr>\n",
       "      <th>11</th>\n",
       "      <td>5.9</td>\n",
       "      <td>62</td>\n",
       "    </tr>\n",
       "    <tr>\n",
       "      <th>12</th>\n",
       "      <td>4.5</td>\n",
       "      <td>41</td>\n",
       "    </tr>\n",
       "    <tr>\n",
       "      <th>13</th>\n",
       "      <td>3.3</td>\n",
       "      <td>42</td>\n",
       "    </tr>\n",
       "    <tr>\n",
       "      <th>14</th>\n",
       "      <td>1.1</td>\n",
       "      <td>17</td>\n",
       "    </tr>\n",
       "    <tr>\n",
       "      <th>15</th>\n",
       "      <td>8.9</td>\n",
       "      <td>95</td>\n",
       "    </tr>\n",
       "    <tr>\n",
       "      <th>16</th>\n",
       "      <td>2.5</td>\n",
       "      <td>30</td>\n",
       "    </tr>\n",
       "    <tr>\n",
       "      <th>17</th>\n",
       "      <td>1.9</td>\n",
       "      <td>24</td>\n",
       "    </tr>\n",
       "    <tr>\n",
       "      <th>18</th>\n",
       "      <td>6.1</td>\n",
       "      <td>67</td>\n",
       "    </tr>\n",
       "    <tr>\n",
       "      <th>19</th>\n",
       "      <td>7.4</td>\n",
       "      <td>69</td>\n",
       "    </tr>\n",
       "    <tr>\n",
       "      <th>20</th>\n",
       "      <td>2.7</td>\n",
       "      <td>30</td>\n",
       "    </tr>\n",
       "    <tr>\n",
       "      <th>21</th>\n",
       "      <td>4.8</td>\n",
       "      <td>54</td>\n",
       "    </tr>\n",
       "    <tr>\n",
       "      <th>22</th>\n",
       "      <td>3.8</td>\n",
       "      <td>35</td>\n",
       "    </tr>\n",
       "    <tr>\n",
       "      <th>23</th>\n",
       "      <td>6.9</td>\n",
       "      <td>76</td>\n",
       "    </tr>\n",
       "    <tr>\n",
       "      <th>24</th>\n",
       "      <td>7.8</td>\n",
       "      <td>86</td>\n",
       "    </tr>\n",
       "  </tbody>\n",
       "</table>\n",
       "</div>"
      ],
      "text/plain": [
       "    Hours  Scores\n",
       "0     2.5      21\n",
       "1     5.1      47\n",
       "2     3.2      27\n",
       "3     8.5      75\n",
       "4     3.5      30\n",
       "5     1.5      20\n",
       "6     9.2      88\n",
       "7     5.5      60\n",
       "8     8.3      81\n",
       "9     2.7      25\n",
       "10    7.7      85\n",
       "11    5.9      62\n",
       "12    4.5      41\n",
       "13    3.3      42\n",
       "14    1.1      17\n",
       "15    8.9      95\n",
       "16    2.5      30\n",
       "17    1.9      24\n",
       "18    6.1      67\n",
       "19    7.4      69\n",
       "20    2.7      30\n",
       "21    4.8      54\n",
       "22    3.8      35\n",
       "23    6.9      76\n",
       "24    7.8      86"
      ]
     },
     "execution_count": 4,
     "metadata": {},
     "output_type": "execute_result"
    }
   ],
   "source": [
    "#Now we will check that our data imported sucessfully or not?\n",
    "TaskData"
   ]
  },
  {
   "cell_type": "code",
   "execution_count": 5,
   "id": "14f8f29a",
   "metadata": {},
   "outputs": [
    {
     "name": "stdout",
     "output_type": "stream",
     "text": [
      "<class 'pandas.core.frame.DataFrame'>\n",
      "RangeIndex: 25 entries, 0 to 24\n",
      "Data columns (total 2 columns):\n",
      " #   Column  Non-Null Count  Dtype  \n",
      "---  ------  --------------  -----  \n",
      " 0   Hours   25 non-null     float64\n",
      " 1   Scores  25 non-null     int64  \n",
      "dtypes: float64(1), int64(1)\n",
      "memory usage: 528.0 bytes\n"
     ]
    }
   ],
   "source": [
    "TaskData.info()"
   ]
  },
  {
   "cell_type": "code",
   "execution_count": 6,
   "id": "083d9ab4",
   "metadata": {},
   "outputs": [
    {
     "data": {
      "text/html": [
       "<div>\n",
       "<style scoped>\n",
       "    .dataframe tbody tr th:only-of-type {\n",
       "        vertical-align: middle;\n",
       "    }\n",
       "\n",
       "    .dataframe tbody tr th {\n",
       "        vertical-align: top;\n",
       "    }\n",
       "\n",
       "    .dataframe thead th {\n",
       "        text-align: right;\n",
       "    }\n",
       "</style>\n",
       "<table border=\"1\" class=\"dataframe\">\n",
       "  <thead>\n",
       "    <tr style=\"text-align: right;\">\n",
       "      <th></th>\n",
       "      <th>count</th>\n",
       "      <th>mean</th>\n",
       "      <th>std</th>\n",
       "      <th>min</th>\n",
       "      <th>25%</th>\n",
       "      <th>50%</th>\n",
       "      <th>75%</th>\n",
       "      <th>max</th>\n",
       "    </tr>\n",
       "  </thead>\n",
       "  <tbody>\n",
       "    <tr>\n",
       "      <th>Hours</th>\n",
       "      <td>25.0</td>\n",
       "      <td>5.012</td>\n",
       "      <td>2.525094</td>\n",
       "      <td>1.1</td>\n",
       "      <td>2.7</td>\n",
       "      <td>4.8</td>\n",
       "      <td>7.4</td>\n",
       "      <td>9.2</td>\n",
       "    </tr>\n",
       "    <tr>\n",
       "      <th>Scores</th>\n",
       "      <td>25.0</td>\n",
       "      <td>51.480</td>\n",
       "      <td>25.286887</td>\n",
       "      <td>17.0</td>\n",
       "      <td>30.0</td>\n",
       "      <td>47.0</td>\n",
       "      <td>75.0</td>\n",
       "      <td>95.0</td>\n",
       "    </tr>\n",
       "  </tbody>\n",
       "</table>\n",
       "</div>"
      ],
      "text/plain": [
       "        count    mean        std   min   25%   50%   75%   max\n",
       "Hours    25.0   5.012   2.525094   1.1   2.7   4.8   7.4   9.2\n",
       "Scores   25.0  51.480  25.286887  17.0  30.0  47.0  75.0  95.0"
      ]
     },
     "execution_count": 6,
     "metadata": {},
     "output_type": "execute_result"
    }
   ],
   "source": [
    "TaskData.describe().T"
   ]
  },
  {
   "cell_type": "code",
   "execution_count": 7,
   "id": "c3c7f273",
   "metadata": {},
   "outputs": [
    {
     "data": {
      "text/plain": [
       "Hours     0\n",
       "Scores    0\n",
       "dtype: int64"
      ]
     },
     "execution_count": 7,
     "metadata": {},
     "output_type": "execute_result"
    }
   ],
   "source": [
    "TaskData.isnull().sum()"
   ]
  },
  {
   "cell_type": "markdown",
   "id": "2c1b0a74",
   "metadata": {},
   "source": [
    " <H2><FONT FACE = \"COMIC SANS MS\", COLOR =\"DARKGREEN\">STEP 3. Visualizing the Data:</FONT>"
   ]
  },
  {
   "cell_type": "code",
   "execution_count": 8,
   "id": "015c3f4b",
   "metadata": {},
   "outputs": [
    {
     "data": {
      "image/png": "[encoded data removed]",
      "text/plain": [
       "<Figure size 432x288 with 1 Axes>"
      ]
     },
     "metadata": {
      "needs_background": "light"
     },
     "output_type": "display_data"
    }
   ],
   "source": [
    "x = TaskData['Hours']\n",
    "y = TaskData['Scores']\n",
    "plt.title(\"Hours VS Percentages\", fontdict = {'family':'serif','color':'blue','size':20}, loc = 'Center')\n",
    "plt.xlabel(\"Study Hours\", fontdict = {'family':'serif','color':'blue','size':15})\n",
    "plt.ylabel(\"Percentages\", fontdict = {'family':'serif','color':'blue','size':15})\n",
    "plt.rcParams[\"figure.figsize\"] = [15,10]\n",
    "plt.scatter(x, y, s=y)\n",
    "plt.grid()"
   ]
  },
  {
   "cell_type": "code",
   "execution_count": 9,
   "id": "6a879721",
   "metadata": {},
   "outputs": [
    {
     "data": {
      "text/html": [
       "<div>\n",
       "<style scoped>\n",
       "    .dataframe tbody tr th:only-of-type {\n",
       "        vertical-align: middle;\n",
       "    }\n",
       "\n",
       "    .dataframe tbody tr th {\n",
       "        vertical-align: top;\n",
       "    }\n",
       "\n",
       "    .dataframe thead th {\n",
       "        text-align: right;\n",
       "    }\n",
       "</style>\n",
       "<table border=\"1\" class=\"dataframe\">\n",
       "  <thead>\n",
       "    <tr style=\"text-align: right;\">\n",
       "      <th></th>\n",
       "      <th>Hours</th>\n",
       "      <th>Scores</th>\n",
       "    </tr>\n",
       "  </thead>\n",
       "  <tbody>\n",
       "    <tr>\n",
       "      <th>Hours</th>\n",
       "      <td>1.000000</td>\n",
       "      <td>0.976191</td>\n",
       "    </tr>\n",
       "    <tr>\n",
       "      <th>Scores</th>\n",
       "      <td>0.976191</td>\n",
       "      <td>1.000000</td>\n",
       "    </tr>\n",
       "  </tbody>\n",
       "</table>\n",
       "</div>"
      ],
      "text/plain": [
       "           Hours    Scores\n",
       "Hours   1.000000  0.976191\n",
       "Scores  0.976191  1.000000"
      ]
     },
     "execution_count": 9,
     "metadata": {},
     "output_type": "execute_result"
    }
   ],
   "source": [
    "TaskData.corr()"
   ]
  },
  {
   "cell_type": "code",
   "execution_count": 10,
   "id": "3d5d7129",
   "metadata": {},
   "outputs": [
    {
     "data": {
      "image/png": "[encoded data removed]",
      "text/plain": [
       "<Figure size 1080x720 with 1 Axes>"
      ]
     },
     "metadata": {
      "needs_background": "light"
     },
     "output_type": "display_data"
    }
   ],
   "source": [
    "import scipy as spy\n",
    "slope, intercept, r, p, std_err = spy.stats.linregress(x, y)\n",
    "\n",
    "def myfunc(x):\n",
    "  return slope * x + intercept\n",
    "\n",
    "mymodel = list(map(myfunc, x))\n",
    "\n",
    "plt.scatter(x, y, s=y)\n",
    "plt.plot(x, mymodel)\n",
    "plt.title(\"Hours VS Percentages\", fontdict = {'family':'serif','color':'blue','size':20}, loc = 'Center')\n",
    "plt.xlabel(\"Study Hours\", fontdict = {'family':'serif','color':'blue','size':15})\n",
    "plt.ylabel(\"Percentages\", fontdict = {'family':'serif','color':'blue','size':15})\n",
    "plt.rcParams[\"figure.figsize\"] = [15,10]\n",
    "plt.grid()\n",
    "plt.show()"
   ]
  },
  {
   "cell_type": "markdown",
   "id": "dd072e5f",
   "metadata": {},
   "source": [
    "**It is important to know how the relationship between the values of the x-axis and the values of the y-axis is, if there are no relationship the linear regression can not be used to predict anything.**\n",
    "\n",
    "**This relationship - the coefficient of correlation - is called r.**\n",
    "\n",
    "**The r value ranges from -1 to 1, where 0 means no relationship, and 1 (and -1) means 100% related.**"
   ]
  },
  {
   "cell_type": "code",
   "execution_count": 11,
   "id": "e3d7f72f",
   "metadata": {},
   "outputs": [
    {
     "data": {
      "text/plain": [
       "0.9761906560220887"
      ]
     },
     "execution_count": 11,
     "metadata": {},
     "output_type": "execute_result"
    }
   ],
   "source": [
    "#How well does my data fit in a linear regression?\n",
    "#r=relation\n",
    "r"
   ]
  },
  {
   "cell_type": "markdown",
   "id": "8ef59f0b",
   "metadata": {},
   "source": [
    "**The Value of r shows that, there is a positive relationship between the hours and scores** "
   ]
  },
  {
   "cell_type": "markdown",
   "id": "7cd15a13",
   "metadata": {},
   "source": [
    " <H2><FONT FACE = \"COMIC SANS MS\", COLOR =\"DARKGREEN\">STEP 4. Data Prepration:</FONT>"
   ]
  },
  {
   "cell_type": "code",
   "execution_count": 13,
   "id": "59f83c74",
   "metadata": {},
   "outputs": [],
   "source": [
    "x = TaskData.iloc[:, :1].values\n",
    "y = TaskData.iloc[:, 1:].values"
   ]
  },
  {
   "cell_type": "code",
   "execution_count": 14,
   "id": "4f8850d2",
   "metadata": {},
   "outputs": [
    {
     "data": {
      "text/plain": [
       "array([[2.5],\n",
       "       [5.1],\n",
       "       [3.2],\n",
       "       [8.5],\n",
       "       [3.5],\n",
       "       [1.5],\n",
       "       [9.2],\n",
       "       [5.5],\n",
       "       [8.3],\n",
       "       [2.7],\n",
       "       [7.7],\n",
       "       [5.9],\n",
       "       [4.5],\n",
       "       [3.3],\n",
       "       [1.1],\n",
       "       [8.9],\n",
       "       [2.5],\n",
       "       [1.9],\n",
       "       [6.1],\n",
       "       [7.4],\n",
       "       [2.7],\n",
       "       [4.8],\n",
       "       [3.8],\n",
       "       [6.9],\n",
       "       [7.8]])"
      ]
     },
     "execution_count": 14,
     "metadata": {},
     "output_type": "execute_result"
    }
   ],
   "source": [
    "x"
   ]
  },
  {
   "cell_type": "code",
   "execution_count": 15,
   "id": "93a6a916",
   "metadata": {},
   "outputs": [
    {
     "data": {
      "text/plain": [
       "array([[21],\n",
       "       [47],\n",
       "       [27],\n",
       "       [75],\n",
       "       [30],\n",
       "       [20],\n",
       "       [88],\n",
       "       [60],\n",
       "       [81],\n",
       "       [25],\n",
       "       [85],\n",
       "       [62],\n",
       "       [41],\n",
       "       [42],\n",
       "       [17],\n",
       "       [95],\n",
       "       [30],\n",
       "       [24],\n",
       "       [67],\n",
       "       [69],\n",
       "       [30],\n",
       "       [54],\n",
       "       [35],\n",
       "       [76],\n",
       "       [86]], dtype=int64)"
      ]
     },
     "execution_count": 15,
     "metadata": {},
     "output_type": "execute_result"
    }
   ],
   "source": [
    "y"
   ]
  },
  {
   "cell_type": "markdown",
   "id": "bf1e6a29",
   "metadata": {},
   "source": [
    " <H2><FONT FACE = \"COMIC SANS MS\", COLOR =\"DARKGREEN\">STEP 5. Training the algorithm:</FONT>"
   ]
  },
  {
   "cell_type": "code",
   "execution_count": 38,
   "id": "ccb033e7",
   "metadata": {},
   "outputs": [],
   "source": [
    "x_train, x_test, y_train, y_test = train_test_split(x, y, test_size=0.2, train_size=0.2, random_state=0)"
   ]
  },
  {
   "cell_type": "code",
   "execution_count": 39,
   "id": "40f36e53",
   "metadata": {},
   "outputs": [
    {
     "name": "stdout",
     "output_type": "stream",
     "text": [
      "Training complete.\n"
     ]
    }
   ],
   "source": [
    "model = LinearRegression()\n",
    "model.fit(x_train, y_train)\n",
    "print(\"Training complete.\")"
   ]
  },
  {
   "cell_type": "markdown",
   "id": "61c07e7c",
   "metadata": {},
   "source": [
    " <H2><FONT FACE = \"COMIC SANS MS\", COLOR =\"DARKGREEN\">STEP 6. Visualizing the model:</FONT>"
   ]
  },
  {
   "cell_type": "code",
   "execution_count": 41,
   "id": "40dedf0f",
   "metadata": {},
   "outputs": [
    {
     "data": {
      "image/png": "[encoded data removed]",
      "text/plain": [
       "<Figure size 720x360 with 1 Axes>"
      ]
     },
     "metadata": {
      "needs_background": "light"
     },
     "output_type": "display_data"
    }
   ],
   "source": [
    "# Plotting the regression line for training set\n",
    "line = model.coef_*x+model.intercept_\n",
    "\n",
    "# Plotting for the test data\n",
    "plt.figure(figsize = (10,5))\n",
    "plt.scatter(x_train, y_train, color = \"blue\")\n",
    "plt.plot(x, line, color = \"black\");\n",
    "plt.xlabel(\"Study Hours\")\n",
    "plt.ylabel(\"Percentage score\")\n",
    "plt.grid()\n",
    "plt.show()"
   ]
  },
  {
   "cell_type": "code",
   "execution_count": 40,
   "id": "9a277ca8",
   "metadata": {},
   "outputs": [
    {
     "data": {
      "image/png": "[encoded data removed]",
      "text/plain": [
       "<Figure size 720x360 with 1 Axes>"
      ]
     },
     "metadata": {
      "needs_background": "light"
     },
     "output_type": "display_data"
    }
   ],
   "source": [
    "# Plotting the regression line for test set\n",
    "line = model.coef_*y+model.intercept_\n",
    "\n",
    "# Plotting for the test data\n",
    "plt.figure(figsize = (10,5))\n",
    "plt.scatter(x_test, y_test, color = \"blue\")\n",
    "plt.plot(x, line, color = \"black\");\n",
    "plt.xlabel(\"Study Hours\")\n",
    "plt.ylabel(\"Percentage score\")\n",
    "plt.grid()\n",
    "plt.show()"
   ]
  },
  {
   "cell_type": "markdown",
   "id": "75f2b7b3",
   "metadata": {},
   "source": [
    " <H2><FONT FACE = \"COMIC SANS MS\", COLOR =\"DARKGREEN\">STEP 6. Making the prediction and representing the result:</FONT>"
   ]
  },
  {
   "cell_type": "code",
   "execution_count": 45,
   "id": "391db0f0",
   "metadata": {},
   "outputs": [
    {
     "data": {
      "text/plain": [
       "array([[1.5],\n",
       "       [3.2],\n",
       "       [7.4],\n",
       "       [2.5],\n",
       "       [5.9]])"
      ]
     },
     "execution_count": 45,
     "metadata": {},
     "output_type": "execute_result"
    }
   ],
   "source": [
    "y_pred = model.predict(x_test)\n",
    "x_test"
   ]
  },
  {
   "cell_type": "code",
   "execution_count": 44,
   "id": "31909e44",
   "metadata": {
    "scrolled": true
   },
   "outputs": [
    {
     "data": {
      "text/plain": [
       "array([[20],\n",
       "       [27],\n",
       "       [69],\n",
       "       [30],\n",
       "       [62]], dtype=int64)"
      ]
     },
     "execution_count": 44,
     "metadata": {},
     "output_type": "execute_result"
    }
   ],
   "source": [
    "y_test"
   ]
  },
  {
   "cell_type": "code",
   "execution_count": 46,
   "id": "e3c112c8",
   "metadata": {},
   "outputs": [
    {
     "data": {
      "text/plain": [
       "array([[18.28973341],\n",
       "       [36.08525241],\n",
       "       [80.0506523 ],\n",
       "       [28.75768576],\n",
       "       [64.34872377]])"
      ]
     },
     "execution_count": 46,
     "metadata": {},
     "output_type": "execute_result"
    }
   ],
   "source": [
    "y_pred"
   ]
  },
  {
   "cell_type": "code",
   "execution_count": 49,
   "id": "8f32e0bd",
   "metadata": {},
   "outputs": [
    {
     "name": "stdout",
     "output_type": "stream",
     "text": [
      "No of Hours = 9.25\n",
      "Predicted Score = [99.41636415]\n"
     ]
    }
   ],
   "source": [
    "hour = 9.25\n",
    "result = model.predict([[hour]])\n",
    "print(\"No of Hours = {}\".format(hour))\n",
    "print(\"Predicted Score = {}\".format(result[0]))"
   ]
  },
  {
   "cell_type": "markdown",
   "id": "cf84a82b",
   "metadata": {},
   "source": [
    "# Thank You"
   ]
  }
 ],
 "metadata": {
  "kernelspec": {
   "display_name": "Python 3 (ipykernel)",
   "language": "python",
   "name": "python3"
  },
  "language_info": {
   "codemirror_mode": {
    "name": "ipython",
    "version": 3
   },
   "file_extension": ".py",
   "mimetype": "text/x-python",
   "name": "python",
   "nbconvert_exporter": "python",
   "pygments_lexer": "ipython3",
   "version": "3.9.7"
  }
 },
 "nbformat": 4,
 "nbformat_minor": 5
}
